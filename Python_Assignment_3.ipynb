{
 "cells": [
  {
   "cell_type": "markdown",
   "id": "1037fd30-e5a0-4bec-998c-c680f28480f4",
   "metadata": {},
   "source": [
    "### Python - Assignment 3 - Advance Python Programming"
   ]
  },
  {
   "cell_type": "markdown",
   "id": "487623f0-0613-4e63-83be-8fda5123da89",
   "metadata": {},
   "source": [
    " 1. Printing on Screen "
   ]
  },
  {
   "cell_type": "code",
   "execution_count": 6,
   "id": "ac043f93-bf6d-489e-9b2d-a9a5125a99e3",
   "metadata": {},
   "outputs": [
    {
     "name": "stdout",
     "output_type": "stream",
     "text": [
      "Hello my name is kevin chaudhary\n"
     ]
    }
   ],
   "source": [
    "# Write a Python program to print a formatted string using print() and f-string. \n",
    "name = 'kevin chaudhary'\n",
    "print(f\"Hello my name is {name}\")"
   ]
  },
  {
   "cell_type": "code",
   "execution_count": 2,
   "id": "767b65f2-f78a-437f-9d43-e619e5454c96",
   "metadata": {},
   "outputs": [
    {
     "name": "stdout",
     "output_type": "stream",
     "text": [
      "Hello, world!\n"
     ]
    }
   ],
   "source": [
    "# Write a Python program to print “Hello, World!” on the screen. \n",
    "print(\"Hello, world!\")"
   ]
  },
  {
   "cell_type": "markdown",
   "id": "707dd81d-91ad-4964-b180-4bb80ea9acb4",
   "metadata": {},
   "source": [
    "2. Reading Data from Keyboard "
   ]
  },
  {
   "cell_type": "code",
   "execution_count": 5,
   "id": "9a2318b6-834c-4ea1-8790-0f5d712d6971",
   "metadata": {},
   "outputs": [
    {
     "name": "stdin",
     "output_type": "stream",
     "text": [
      "Enter your name :  kevin\n"
     ]
    },
    {
     "name": "stdout",
     "output_type": "stream",
     "text": [
      "Hello my name is kevin\n"
     ]
    }
   ],
   "source": [
    "# Write a Python program to read a name and age from the user and print a formatted output. \n",
    "name = input(\"Enter your name : \")\n",
    "print(f\"Hello my name is {name}\")"
   ]
  },
  {
   "cell_type": "code",
   "execution_count": 14,
   "id": "9e7c8401-702b-4341-8c90-d24f01c39b07",
   "metadata": {},
   "outputs": [
    {
     "name": "stdin",
     "output_type": "stream",
     "text": [
      "Enter a string :  asd\n",
      "Enter an integer :  123\n",
      "Enter a float :  25.25\n"
     ]
    },
    {
     "name": "stdout",
     "output_type": "stream",
     "text": [
      "asd 123 25.25\n"
     ]
    }
   ],
   "source": [
    "# Write a Python program to read a string, an integer, and a float from the keyboard and display them.\n",
    "s = input(\"Enter a string : \")\n",
    "n = int(input(\"Enter an integer : \"))\n",
    "f = float(input(\"Enter a float : \"))\n",
    "print(s, n, f,)"
   ]
  },
  {
   "cell_type": "markdown",
   "id": "eb29aee9-2935-4df1-97bd-47cac3965957",
   "metadata": {},
   "source": [
    "3. Opening and Closing Files "
   ]
  },
  {
   "cell_type": "code",
   "execution_count": 30,
   "id": "fd1a7676-34a6-407d-b994-f0c2a5ea7ec3",
   "metadata": {},
   "outputs": [],
   "source": [
    "# Write a Python program to open a file in write mode, write some text, and then close it.\n",
    "# Write a Python program to create a file and write a string into it. \n",
    "f = open(\"text.txt\",\"w\")\n",
    "f.write(\"kevin chaudhary\")\n",
    "f.close()"
   ]
  },
  {
   "cell_type": "markdown",
   "id": "e63a1850-3e09-4ef5-84be-97544ef7c886",
   "metadata": {},
   "source": [
    "4. Reading and Writing Files"
   ]
  },
  {
   "cell_type": "code",
   "execution_count": 2,
   "id": "9ab64428-be61-4ef7-b060-9368d6a909ea",
   "metadata": {},
   "outputs": [],
   "source": [
    "# Write a Python program to write multiple strings into a file. \n",
    "f = open(\"text.txt\",\"w\")\n",
    "x = ['Hello\\n', 'Welcome to class\\n', 'Python programming\\n']\n",
    "f.writelines(x)\n",
    "f.close()"
   ]
  },
  {
   "cell_type": "code",
   "execution_count": 3,
   "id": "af6cb5d4-c030-474c-afd3-5819223f262a",
   "metadata": {},
   "outputs": [],
   "source": [
    "# Write a python program to create a file and print the string into the file\n",
    "f = open('sample.txt', 'w')\n",
    "f.write('Hello world!')\n",
    "f.close()"
   ]
  },
  {
   "cell_type": "code",
   "execution_count": 8,
   "id": "3e92ecb5-d28a-49f2-b8ae-64944dabbf90",
   "metadata": {},
   "outputs": [
    {
     "name": "stdout",
     "output_type": "stream",
     "text": [
      "Hello world!\n"
     ]
    }
   ],
   "source": [
    "# Write a Python program to read a file and print the data on the console. \n",
    "f = open('sample.txt', 'r')\n",
    "x = f.read()\n",
    "print(x)"
   ]
  },
  {
   "cell_type": "code",
   "execution_count": 10,
   "id": "82b1e323-3588-44e7-91b7-269c3ae41901",
   "metadata": {},
   "outputs": [
    {
     "data": {
      "text/plain": [
       "12"
      ]
     },
     "execution_count": 10,
     "metadata": {},
     "output_type": "execute_result"
    }
   ],
   "source": [
    "#Write a python program to check the current position of the file cursor using tell()\n",
    "f.tell()"
   ]
  },
  {
   "cell_type": "markdown",
   "id": "cec71b3d-4872-40db-b06e-727ebfdf0a6a",
   "metadata": {},
   "source": [
    " 5. Exception Handling "
   ]
  },
  {
   "cell_type": "code",
   "execution_count": 19,
   "id": "8db534cc-324b-4b50-91df-fb6927e978cd",
   "metadata": {},
   "outputs": [
    {
     "name": "stdin",
     "output_type": "stream",
     "text": [
      "Enter a number: 25\n",
      "Enter another number: 2.25\n"
     ]
    },
    {
     "name": "stdout",
     "output_type": "stream",
     "text": [
      "Didn't enter an integer\n"
     ]
    }
   ],
   "source": [
    "# Write a Python program to handle exceptions in a simple calculator (division by zero, invalid input).\n",
    "try:\n",
    "    x = int(input(\"Enter a number:\"))\n",
    "    y = int(input(\"Enter another number:\"))\n",
    "    print(x/y)\n",
    "except ZeroDivisionError:\n",
    "    print(\"Division by zero error\")\n",
    "except ValueError:\n",
    "    print(\"Didn't enter an integer\")"
   ]
  },
  {
   "cell_type": "code",
   "execution_count": 27,
   "id": "2f87e781-a33a-4247-be66-03991a80661d",
   "metadata": {},
   "outputs": [
    {
     "name": "stdin",
     "output_type": "stream",
     "text": [
      "Enter a number: 10\n",
      "Enter another number: 2\n"
     ]
    },
    {
     "name": "stdout",
     "output_type": "stream",
     "text": [
      "5.0\n",
      "File doesn't exist\n"
     ]
    }
   ],
   "source": [
    "# Write a python program to handle multiple exceptions (like file not found, division by zero)\n",
    "try:\n",
    "    x = int(input(\"Enter a number:\"))\n",
    "    y = int(input(\"Enter another number:\"))\n",
    "    print(x/y)\n",
    "    f = open(\"kevin.txt\", 'r')\n",
    "except ZeroDivisionError:\n",
    "    print(\"Division by zero error\")\n",
    "except ValueError:\n",
    "    print(\"Didn't enter an integer\")\n",
    "except FileNotFoundError:\n",
    "    print(\"File doesn't exist\")"
   ]
  },
  {
   "cell_type": "code",
   "execution_count": 31,
   "id": "5f64f2f8-5184-4f4d-972b-5b031679246c",
   "metadata": {},
   "outputs": [
    {
     "name": "stdin",
     "output_type": "stream",
     "text": [
      "Enter the file mode (r / w) :  o\n"
     ]
    },
    {
     "name": "stdout",
     "output_type": "stream",
     "text": [
      "Used wrong mode\n"
     ]
    }
   ],
   "source": [
    "# Write python program to handle file exceptions and use the finally block for closing the file\n",
    "try:\n",
    "    m = input(\"Enter the file mode (r / w) : \")\n",
    "    f = open(\"sample.txt\", m)\n",
    "    s = f.read()\n",
    "    print(s)\n",
    "except :\n",
    "    print(\"Used wrong mode\")\n",
    "finally:\n",
    "    f.close()"
   ]
  },
  {
   "cell_type": "code",
   "execution_count": 23,
   "id": "5904f4c2-21cf-4204-8207-0b4494dc2d49",
   "metadata": {},
   "outputs": [
    {
     "name": "stdin",
     "output_type": "stream",
     "text": [
      "Enter Y to continue or N to exit :  n\n"
     ]
    }
   ],
   "source": [
    "# Write python program to print custom exceptions\n",
    "try:\n",
    "    n = input(\"Enter Y to continue or N to exit : \").lower()\n",
    "    if n not in ['y', 'n']:\n",
    "         raise ValueError(\"Invalid Input, Enter (Y/N)\")\n",
    "except ValueError as ve:\n",
    "    print(ve)"
   ]
  },
  {
   "cell_type": "markdown",
   "id": "3f2e3bac-032b-42fe-9241-6563497beba7",
   "metadata": {},
   "source": [
    "6. Class and Object (OOP concepts)"
   ]
  },
  {
   "cell_type": "code",
   "execution_count": 27,
   "id": "533f31fe-7985-4551-b9c9-ae7a875b6d37",
   "metadata": {},
   "outputs": [
    {
     "name": "stdout",
     "output_type": "stream",
     "text": [
      "Student id = 101\n",
      "Student name = kevin\n"
     ]
    }
   ],
   "source": [
    "# Write a python program to create a class and access the properties of the class using an object\n",
    "class Student:\n",
    "    def __init__ (self, id, name):\n",
    "        self.id = id\n",
    "        self.name = name\n",
    "a = Student(101, 'kevin')\n",
    "print(f\"Student id = {a.id}\\nStudent name = {a.name}\")"
   ]
  },
  {
   "cell_type": "code",
   "execution_count": 35,
   "id": "ab4c8ed0-4864-4a12-811e-388680580731",
   "metadata": {},
   "outputs": [
    {
     "name": "stdout",
     "output_type": "stream",
     "text": [
      "0\n",
      "Global count: 10\n",
      "Local count: 100\n",
      "Global count: 20\n",
      "kevin 20\n"
     ]
    }
   ],
   "source": [
    "# Write a python program to demonstrate the use of local and global variables in a class\n",
    "count = 0\n",
    "\n",
    "class Counter:\n",
    "    def increment(self):\n",
    "        global count\n",
    "        count += 10\n",
    "        print(\"Global count:\", count)\n",
    "\n",
    "    def show_local(self):\n",
    "        local_count = 100\n",
    "        print(\"Local count:\", local_count)\n",
    "\n",
    "print(count)\n",
    "c.increment()\n",
    "c.show_local()\n",
    "c.increment()"
   ]
  },
  {
   "cell_type": "markdown",
   "id": "66262327-6512-49dd-8dcd-eaa9b6861cff",
   "metadata": {},
   "source": [
    "7. Inheritance"
   ]
  },
  {
   "cell_type": "code",
   "execution_count": 36,
   "id": "6bb9c42a-696c-4eba-bf7d-5ff26f5aa936",
   "metadata": {},
   "outputs": [
    {
     "name": "stdout",
     "output_type": "stream",
     "text": [
      "Bark\n"
     ]
    }
   ],
   "source": [
    "# Write a python program to show single inheritance\n",
    "class Animal:\n",
    "    def sound(self):\n",
    "        print(\"Bark\")\n",
    "\n",
    "class Dog(Animal):\n",
    "    pass\n",
    "\n",
    "d = Dog()\n",
    "d.sound()"
   ]
  },
  {
   "cell_type": "code",
   "execution_count": 40,
   "id": "e64cd9eb-75ac-42c8-9060-364ac29d7be4",
   "metadata": {},
   "outputs": [
    {
     "name": "stdout",
     "output_type": "stream",
     "text": [
      "shop\n",
      "Land\n"
     ]
    }
   ],
   "source": [
    "#  Write a Python program to show multilevel inheritance.\n",
    "class grandfather:\n",
    "    def Property(self):\n",
    "        print(\"Land\")\n",
    "class father(grandfather):\n",
    "    def Property(self):\n",
    "        print(\"shop\")\n",
    "class child(father):\n",
    "    def heritage(self):\n",
    "        father.Property(self)\n",
    "        grandfather.Property(self)\n",
    "\n",
    "c = child()\n",
    "c.heritage()"
   ]
  },
  {
   "cell_type": "code",
   "execution_count": 41,
   "id": "6c5b8db7-4f31-47ba-bc6c-40aac54ead74",
   "metadata": {},
   "outputs": [
    {
     "name": "stdout",
     "output_type": "stream",
     "text": [
      "Gardening\n",
      "Painting\n"
     ]
    }
   ],
   "source": [
    "# Write a python program to show multiple inheritance\n",
    "class Father:\n",
    "    def skill(self):\n",
    "         print(\"Gardening\")\n",
    "\n",
    "class Mother:\n",
    "    def talent(self):\n",
    "        print(\"Painting\")\n",
    "\n",
    "class Child(Father, Mother):\n",
    "    def parent(self):\n",
    "        Father.skill(self)\n",
    "        Mother.talent(self)\n",
    "\n",
    "c = Child()\n",
    "c.parent()"
   ]
  },
  {
   "cell_type": "code",
   "execution_count": 42,
   "id": "eed06b90-e771-45a5-b920-6b625cdfb395",
   "metadata": {},
   "outputs": [
    {
     "name": "stdout",
     "output_type": "stream",
     "text": [
      "This is the parent class\n",
      "Feature of Child1\n",
      "This is the parent class\n",
      "Feature of Child2\n"
     ]
    }
   ],
   "source": [
    "# Write a python program to show hierarchical inheritance\n",
    "class Parent:\n",
    "    def show(self):\n",
    "        return \"This is the parent class\"\n",
    "\n",
    "class Child1(Parent):\n",
    "    def feature1(self):\n",
    "        return \"Feature of Child1\"\n",
    "\n",
    "class Child2(Parent):\n",
    "    def feature2(self):\n",
    "        return \"Feature of Child2\"\n",
    "\n",
    "c1 = Child1()\n",
    "print(c1.show())\n",
    "print(c1.feature1())\n",
    "\n",
    "c2 = Child2()\n",
    "print(c2.show())\n",
    "print(c2.feature2())"
   ]
  },
  {
   "cell_type": "code",
   "execution_count": 43,
   "id": "0b833d76-47aa-47e3-a747-c82e32660116",
   "metadata": {},
   "outputs": [
    {
     "name": "stdout",
     "output_type": "stream",
     "text": [
      "General Info\n",
      "Studies subjects\n",
      "Plays sports\n",
      "Studies and plays\n"
     ]
    }
   ],
   "source": [
    "# Write a python program to show hybrid inheritance\n",
    "class Person:\n",
    "    def info(self):\n",
    "        return \"General Info\"\n",
    "\n",
    "class Student(Person):\n",
    "    def study(self):\n",
    "        return \"Studies subjects\"\n",
    "\n",
    "class Athlete:\n",
    "    def play(self):\n",
    "        return \"Plays sports\"\n",
    "\n",
    "class StudentAthlete(Student, Athlete):\n",
    "    def role(self):\n",
    "        return \"Studies and plays\"\n",
    "\n",
    "sa = StudentAthlete()\n",
    "print(sa.info())\n",
    "print(sa.study())\n",
    "print(sa.play())\n",
    "print(sa.role())"
   ]
  },
  {
   "cell_type": "markdown",
   "id": "ce3be6eb-0258-4994-823c-c58064c2a989",
   "metadata": {},
   "source": [
    "8. Method Overloading and Overriding"
   ]
  },
  {
   "cell_type": "code",
   "execution_count": 53,
   "id": "5daaac24-5caa-4689-a698-f92a8da7a775",
   "metadata": {},
   "outputs": [
    {
     "name": "stdout",
     "output_type": "stream",
     "text": [
      "12\n",
      "15\n",
      "11.0\n",
      "15.0\n"
     ]
    }
   ],
   "source": [
    "# Write a python program to show method overloading\n",
    "# note use default args to use different amount of args while passing parameters\n",
    "class addition:\n",
    "    def add(self, a, b, c = 0):\n",
    "        print(a + b + c)\n",
    "a = addition()\n",
    "a.add(10,2)\n",
    "a.add(10,2,3)\n",
    "a.add(10.5,0.5)\n",
    "a.add(10.5, 4, 0.5)"
   ]
  },
  {
   "cell_type": "code",
   "execution_count": 60,
   "id": "bbebe6ae-085e-458a-983f-399d59fdf2c1",
   "metadata": {},
   "outputs": [
    {
     "name": "stdout",
     "output_type": "stream",
     "text": [
      "The animal makes a sound.\n",
      "The dog barks.\n",
      "The cat meows.\n"
     ]
    }
   ],
   "source": [
    "# Write a python program to show method overriding\n",
    "class Animal:\n",
    "    def speak(self):\n",
    "        print(\"The animal makes a sound.\")\n",
    "\n",
    "class Dog(Animal):\n",
    "    def speak(self):\n",
    "        print(\"The dog barks.\")\n",
    "\n",
    "class Cat(Animal):\n",
    "    def speak(self):\n",
    "        print(\"The cat meows.\")\n",
    "\n",
    "a = Animal()\n",
    "d = Dog()\n",
    "c = Cat()\n",
    "\n",
    "a.speak()\n",
    "d.speak()\n",
    "c.speak()"
   ]
  },
  {
   "cell_type": "markdown",
   "id": "72c49664-2358-4d9e-b0ea-cd7ef060edcf",
   "metadata": {},
   "source": [
    "9. SQLite3 and PyMySQL (Database Connectors)"
   ]
  },
  {
   "cell_type": "code",
   "execution_count": 61,
   "id": "af32d977-f86e-4f89-ba71-697b9c59fcb8",
   "metadata": {},
   "outputs": [
    {
     "name": "stdout",
     "output_type": "stream",
     "text": [
      "Table created successfully\n"
     ]
    }
   ],
   "source": [
    "# Write a python program to create a database and a table using SQLite3\n",
    "import sqlite3 as sql\n",
    "connection = sql.connect('my_database.db') \n",
    "cursor = connection.cursor()\n",
    "cursor.execute(\"\"\"CREATE TABLE IF NOT EXISTS users (\n",
    "    id INTEGER PRIMARY KEY AUTOINCREMENT,\n",
    "    name TEXT NOT NULL,\n",
    "    email TEXT UNIQUE NOT NULL,\n",
    "    age INTEGER\n",
    ");\"\"\")\n",
    "\n",
    "print(\"Table created successfully\")\n",
    "connection.commit()\n",
    "connection.close()"
   ]
  },
  {
   "cell_type": "code",
   "execution_count": 62,
   "id": "7f11f641-88f6-4ad0-92f9-da3b6d2e02b6",
   "metadata": {},
   "outputs": [
    {
     "name": "stdout",
     "output_type": "stream",
     "text": [
      "Data added successfully\n",
      "(1, 'kevin', 'kevinchaudhary123@gmail.com', 22)\n"
     ]
    }
   ],
   "source": [
    "# Write a python program to insert data into an SQlite3 database and fetch it\n",
    "import sqlite3 as sql\n",
    "connection = sql.connect('my_database.db')\n",
    "cursor = connection.cursor()\n",
    "#inserting data\n",
    "cursor.execute(\"insert into users values(1,'kevin', 'kevinchaudhary123@gmail.com', 22)\")\n",
    "print(\"Data added successfully\")\n",
    "# fetching the data\n",
    "cursor.execute(\"select * from users\")\n",
    "r = cursor.fetchall()\n",
    "#printing the data\n",
    "for i in r:\n",
    "    print(i)\n",
    "    \n",
    "connection.commit()\n",
    "connection.close()"
   ]
  },
  {
   "cell_type": "markdown",
   "id": "8cd5ab46-4a58-4b3d-a6dc-97c9a71596de",
   "metadata": {},
   "source": [
    "10. Search and Match Functions"
   ]
  },
  {
   "cell_type": "code",
   "execution_count": 65,
   "id": "8370f133-bdfb-484d-9c54-718c2e0c3a94",
   "metadata": {},
   "outputs": [
    {
     "name": "stdout",
     "output_type": "stream",
     "text": [
      "<re.Match object; span=(10, 13), match='cat'>\n"
     ]
    }
   ],
   "source": [
    "# Write a python program to seacrh for a word in a string using re.search()\n",
    "import re\n",
    "s = str(re.search(r\"cat\", \"is that a cat?\"))\n",
    "print(s)"
   ]
  },
  {
   "cell_type": "code",
   "execution_count": 72,
   "id": "3b568b1d-7fef-49c9-bdb0-a7a8d6b7591e",
   "metadata": {},
   "outputs": [
    {
     "name": "stdout",
     "output_type": "stream",
     "text": [
      "None\n",
      "<re.Match object; span=(0, 3), match='cat'>\n"
     ]
    }
   ],
   "source": [
    "# Write a python program to match a word in a string using re.match()\n",
    "import re\n",
    "s = str(re.match(r\"cat\", \"is that a cat?\"))\n",
    "print(s)\n",
    "\n",
    "s = str(re.search(r\"cat\", \"cat have four legs?\"))\n",
    "print(s)"
   ]
  },
  {
   "cell_type": "code",
   "execution_count": null,
   "id": "f4537885-5595-4f5f-a8a7-6c0ab7d7f3c8",
   "metadata": {},
   "outputs": [],
   "source": []
  }
 ],
 "metadata": {
  "kernelspec": {
   "display_name": "Python 3 (ipykernel)",
   "language": "python",
   "name": "python3"
  },
  "language_info": {
   "codemirror_mode": {
    "name": "ipython",
    "version": 3
   },
   "file_extension": ".py",
   "mimetype": "text/x-python",
   "name": "python",
   "nbconvert_exporter": "python",
   "pygments_lexer": "ipython3",
   "version": "3.12.7"
  }
 },
 "nbformat": 4,
 "nbformat_minor": 5
}
