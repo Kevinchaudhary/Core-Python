{
 "cells": [
  {
   "cell_type": "markdown",
   "id": "00f14cbf-cec3-4e97-b819-c0c6cdc471b5",
   "metadata": {},
   "source": [
    "###                        Python - Assignment 1 - Python Fundamentals"
   ]
  },
  {
   "cell_type": "code",
   "execution_count": null,
   "id": "83845fab-94fa-43ed-9387-7b39a1172b94",
   "metadata": {},
   "outputs": [],
   "source": []
  },
  {
   "cell_type": "markdown",
   "id": "8850f8ee-3c56-4ba7-9a7c-8936cd7cc562",
   "metadata": {},
   "source": [
    "1. Introduction to Python"
   ]
  },
  {
   "cell_type": "code",
   "execution_count": 1,
   "id": "1dd27912-d81f-40f2-b8af-793d53209a64",
   "metadata": {},
   "outputs": [
    {
     "name": "stdout",
     "output_type": "stream",
     "text": [
      "Hello World!\n"
     ]
    }
   ],
   "source": [
    "# (1).Write a Python program that prints \"Hello, World!\".\n",
    "print(\"Hello World!\")"
   ]
  },
  {
   "cell_type": "code",
   "execution_count": 2,
   "id": "31180be5-61cc-47fb-9b1b-258498e93fea",
   "metadata": {},
   "outputs": [
    {
     "name": "stdout",
     "output_type": "stream",
     "text": [
      "Kevin Chaudhary\n"
     ]
    }
   ],
   "source": [
    "#(2).Set up Python on your local machine and write a program to display your name\n",
    "print(\"Kevin Chaudhary\")"
   ]
  },
  {
   "cell_type": "markdown",
   "id": "21b15359-aeec-4642-967a-dc748c6df1e6",
   "metadata": {},
   "source": [
    "2. Programming Style"
   ]
  },
  {
   "cell_type": "code",
   "execution_count": 3,
   "id": "885d99b3-eba5-4c03-b8bf-9e582e28fa9b",
   "metadata": {},
   "outputs": [],
   "source": [
    "#  Write a Python program that demonstrates the correct use of indentation, comments, and\n",
    "#  variablesfollowing PEP 8 guidelines."
   ]
  },
  {
   "cell_type": "markdown",
   "id": "d40cbd86-f8cf-4703-a215-2e5af6b20000",
   "metadata": {},
   "source": [
    "3. Core Python Concepts"
   ]
  },
  {
   "cell_type": "code",
   "execution_count": 4,
   "id": "cb1c0997-ecbd-4adb-baf6-b776c461207b",
   "metadata": {},
   "outputs": [
    {
     "name": "stdout",
     "output_type": "stream",
     "text": [
      "Integer: 10, Type: <class 'int'>\n",
      "Float: 5.25, Type: <class 'float'>\n",
      "String: Hello, Python!, Type: <class 'str'>\n",
      "Boolean: False, Type: <class 'bool'>\n",
      "List: [1, 2, 3, 4, 5, 6], Type: <class 'list'>\n",
      "Tuple: (10, 20, 30, 40, 50), Type: <class 'tuple'>\n",
      "Dictionary: {'name': 'kevin', 'age': 22}, Type: <class 'dict'>\n",
      "Set: {50, 20, 40, 10, 30}, Type:<class 'set'>\n",
      "None: None, Type: <class 'NoneType'>\n"
     ]
    }
   ],
   "source": [
    "#(1).Write a Python program to demonstrate the creation of variables and different data types.\n",
    "\n",
    "#Integer Data Type\n",
    "integer_var = 10\n",
    "print(f\"Integer: {integer_var}, Type: {type(integer_var)}\")\n",
    "\n",
    "# Float Data Type\n",
    "float_var = 5.25\n",
    "print(f\"Float: {float_var}, Type: {type(float_var)}\")\n",
    "\n",
    "# String Data Type\n",
    "string_var = \"Hello, Python!\"\n",
    "print(f\"String: {string_var}, Type: {type(string_var)}\")\n",
    "\n",
    "# Boolean Data Type\n",
    "boolean_var = False\n",
    "print(f\"Boolean: {boolean_var}, Type: {type(boolean_var)}\")\n",
    "\n",
    "# List Data Type (Mutable)\n",
    "list_var = [1,2,3,4,5,6]\n",
    "print(f\"List: {list_var}, Type: {type(list_var)}\")\n",
    "\n",
    "# Tuple Data Type (Immutable)\n",
    "tuple_var = (10,20,30,40,50)\n",
    "print(f\"Tuple: {tuple_var}, Type: {type(tuple_var)}\")\n",
    "\n",
    "# # Dictionary Data Type\n",
    "dict_var = {\"name\":\"kevin\", \"age\":22}\n",
    "print(f\"Dictionary: {dict_var}, Type: {type(dict_var)}\")\n",
    "\n",
    "# Set Data Type\n",
    "set_var = {10,20,30,40,50}\n",
    "print(f\"Set: {set_var}, Type:{type(set_var)}\")\n",
    "\n",
    "# None Type (Represents absence of a value)\n",
    "none_var = None\n",
    "print(f\"None: {none_var}, Type: {type(none_var)}\")"
   ]
  },
  {
   "cell_type": "code",
   "execution_count": 6,
   "id": "a99b94a7-84a8-48e8-8831-42805a92585f",
   "metadata": {},
   "outputs": [
    {
     "name": "stdin",
     "output_type": "stream",
     "text": [
      "Enter a number: 5\n"
     ]
    },
    {
     "name": "stdout",
     "output_type": "stream",
     "text": [
      "5 is Odd\n"
     ]
    }
   ],
   "source": [
    "#(2). Practical Example 1: How does the Python code structure work?\n",
    "\n",
    "num = int(input(\"Enter a number:\"))\n",
    "if num % 2 == 0:\n",
    "    print(f\"{num} is Even\")\n",
    "else:\n",
    "    print(f\"{num} is Odd\")"
   ]
  },
  {
   "cell_type": "markdown",
   "id": "320811e1-e190-451c-a5a0-27d83042221c",
   "metadata": {},
   "source": [
    "4. Conditional Statements"
   ]
  },
  {
   "cell_type": "code",
   "execution_count": 7,
   "id": "1105c81d-8838-454c-9bcd-337f95d83198",
   "metadata": {},
   "outputs": [
    {
     "name": "stdin",
     "output_type": "stream",
     "text": [
      "Enter a number: 5\n",
      "Enter a number: 4\n"
     ]
    },
    {
     "name": "stdout",
     "output_type": "stream",
     "text": [
      "5 is Greater than 4\n"
     ]
    }
   ],
   "source": [
    "#(1).Write a Python program to find greater and less than a number using if_else\n",
    "\n",
    "num1 = int(input(\"Enter a number:\"))\n",
    "num2 = int(input(\"Enter a number:\"))\n",
    "if num1 > num2:\n",
    "    print(f\"{num1} is Greater than {num2}\")\n",
    "elif num1 == num2:\n",
    "    print(f\"Both are Equal\")\n",
    "else:\n",
    "    print(f\"{num2} is Greater than {num1}\")"
   ]
  },
  {
   "cell_type": "code",
   "execution_count": 14,
   "id": "00837245-cd33-42bf-babb-723293b12b34",
   "metadata": {},
   "outputs": [
    {
     "name": "stdin",
     "output_type": "stream",
     "text": [
      "Enter a number: 9\n"
     ]
    },
    {
     "name": "stdout",
     "output_type": "stream",
     "text": [
      "9 is not prime\n"
     ]
    }
   ],
   "source": [
    "#(2).Write a Python program to check if a number is prime using if_else.\n",
    "num = int(input(\"Enter a number:\"))\n",
    "if num%2==0 or num%3==0 or num%5==0 or num%7==0 or num%11 ==0:\n",
    "    print(f\"{num} is not prime\")\n",
    "else:\n",
    "    print(f\"{num} is Prime\")"
   ]
  },
  {
   "cell_type": "code",
   "execution_count": 1,
   "id": "eb0c7a2b-efd1-4c01-b305-f8458b8ec91d",
   "metadata": {},
   "outputs": [
    {
     "name": "stdin",
     "output_type": "stream",
     "text": [
      "Enter your Marks(1) :  50\n",
      "Enter your Marks(2) :  50\n",
      "Enter your Marks(3) :  50\n",
      "Enter your Marks(4) :  50\n",
      "Enter your Marks(5) :  50\n"
     ]
    },
    {
     "name": "stdout",
     "output_type": "stream",
     "text": [
      "Total = 250\n",
      "Percentage = 50.0\n",
      "Grade is C\n"
     ]
    }
   ],
   "source": [
    "#(3). Write a Python program to calculate grades based on percentage using if_else ladder\n",
    "m1 = int(input(\"Enter your Marks(1) : \"))\n",
    "m2 = int(input(\"Enter your Marks(2) : \"))\n",
    "m3 = int(input(\"Enter your Marks(3) : \"))\n",
    "m4 = int(input(\"Enter your Marks(4) : \"))\n",
    "m5 = int(input(\"Enter your Marks(5) : \"))\n",
    "total = m1+m2+m3+m4+m5\n",
    "print(f\"Total = {total}\")\n",
    "per = (m1+m2+m3+m4+m5)/5\n",
    "print(f\"Percentage = {per}\")\n",
    "if per>=90:\n",
    "    print(\"Grade is A+\")\n",
    "elif per>=80:\n",
    "    print(\"Grade is A\")\n",
    "elif per>=70:\n",
    "    print(\"Grade is B+\")\n",
    "elif per>=60:\n",
    "    print(\"Grade is B\")\n",
    "elif per>=50:\n",
    "    print(\"Grade is C\")\n",
    "elif per>=40:\n",
    "    print(\"Grade is D\")\n",
    "else:\n",
    "    print(\"Fail\")"
   ]
  },
  {
   "cell_type": "code",
   "execution_count": 45,
   "id": "a0de7c5f-7efd-4843-a57c-a51eed3dca8b",
   "metadata": {},
   "outputs": [
    {
     "name": "stdin",
     "output_type": "stream",
     "text": [
      "Enter your age:  25\n",
      "Enter your weight:  70\n"
     ]
    },
    {
     "name": "stdout",
     "output_type": "stream",
     "text": [
      "You are eligible to donate blood\n"
     ]
    }
   ],
   "source": [
    "#(4). Write a Python program to check if a person is eligible to donate blood using a nested if.\n",
    "age = int(input(\"Enter your age: \"))\n",
    "weight = float(input(\"Enter your weight: \"))\n",
    "if age>=18:\n",
    "    if weight>=50:\n",
    "        print(\"You are eligible to donate blood\")\n",
    "    else:\n",
    "        print(\"You must weigh at least 50 kg to donate blood.\")\n",
    "else:\n",
    "    print(\"You must be at least 18 years old to donate blood.\")"
   ]
  },
  {
   "cell_type": "markdown",
   "id": "c1286641-9c63-413c-9009-afde7df3fff1",
   "metadata": {},
   "source": [
    "5. Looping (For, While) "
   ]
  },
  {
   "cell_type": "code",
   "execution_count": 49,
   "id": "3bf7b14d-5fec-4611-8290-4b1666bd1079",
   "metadata": {},
   "outputs": [
    {
     "name": "stdout",
     "output_type": "stream",
     "text": [
      "apple\n",
      "banana\n",
      "mango\n"
     ]
    }
   ],
   "source": [
    "#(1).Write a Python program to print each fruit in a list using a simple for \n",
    "List1 = ['apple', 'banana', 'mango']\n",
    "for fruit in List1:\n",
    "    print(fruit)"
   ]
  },
  {
   "cell_type": "code",
   "execution_count": 51,
   "id": "80408d07-632a-418a-9b85-be9638c96910",
   "metadata": {},
   "outputs": [
    {
     "data": {
      "text/plain": [
       "3"
      ]
     },
     "execution_count": 51,
     "metadata": {},
     "output_type": "execute_result"
    }
   ],
   "source": [
    "#(2).Write a Python program to find the length of each string in List1.\n",
    "List1 = ['apple', 'banana', 'mango']\n",
    "len(List1)"
   ]
  },
  {
   "cell_type": "code",
   "execution_count": 60,
   "id": "428155dd-9f50-4cee-840e-df8aa09e4099",
   "metadata": {},
   "outputs": [
    {
     "name": "stdout",
     "output_type": "stream",
     "text": [
      "apple is found in the list.\n"
     ]
    }
   ],
   "source": [
    "#(3).Write a Python program to find a specific string in the list using a simple for loop and if condition. \n",
    "List1 = ['apple', 'banana', 'mango']\n",
    "search_str = \"apple\"\n",
    "found = False\n",
    "for fruit in List1:\n",
    "    if fruit == search_str:\n",
    "        found = True\n",
    "        break\n",
    "if found:\n",
    "    print(f\"{search_str} is found in the list.\")\n",
    "else:\n",
    "    print(f\"{search_str} is not found in the list.\")\n",
    "        "
   ]
  },
  {
   "cell_type": "code",
   "execution_count": 73,
   "id": "56d066db-9892-4494-88be-eeb61bd7689c",
   "metadata": {
    "scrolled": true
   },
   "outputs": [
    {
     "name": "stdout",
     "output_type": "stream",
     "text": [
      "*\n",
      "**\n",
      "***\n",
      "****\n",
      "*****\n"
     ]
    }
   ],
   "source": [
    "#(4).Print this pattern using nested for loop: \n",
    "# * \n",
    "# ** \n",
    "# *** \n",
    "# **** \n",
    "# ***** \n",
    "num = 5\n",
    "for i in range(1,6):\n",
    "    for j in range(i):\n",
    "        print(\"*\",end='')\n",
    "    print()"
   ]
  },
  {
   "cell_type": "markdown",
   "id": "48305092-37a6-402f-b262-f6aeefbf1d3c",
   "metadata": {},
   "source": [
    "6. Generators and Iterators "
   ]
  },
  {
   "cell_type": "markdown",
   "id": "22d3db84-57fe-4d5a-add5-7925fe45567f",
   "metadata": {},
   "source": [
    "#(1).Write a generator function that generates the first 10 even numbers. \n",
    "def generate_number(y):\n",
    "    for i in range(1,y):\n",
    "        if i%2==0:\n",
    "            print(i)\n",
    "generate_number(21)\n"
   ]
  },
  {
   "cell_type": "code",
   "execution_count": 18,
   "id": "50a02612-ede7-4ad2-ba50-eb9507f8db64",
   "metadata": {},
   "outputs": [
    {
     "name": "stdout",
     "output_type": "stream",
     "text": [
      "1\n",
      "2\n",
      "3\n",
      "4\n",
      "5\n",
      "6\n"
     ]
    }
   ],
   "source": [
    "#(2).Write a Python program that uses a custom iterator to iterate over a list of integers.\n",
    "a = [1,2,3,4,5,6]\n",
    "for i in a:\n",
    "    print(i)"
   ]
  },
  {
   "cell_type": "markdown",
   "id": "37e354a0-9df7-415c-9c7f-baaea4dc1845",
   "metadata": {},
   "source": [
    "7. Functions and Methods"
   ]
  },
  {
   "cell_type": "code",
   "execution_count": 20,
   "id": "bacea006-e3a6-4c42-a67c-b18dc9fad1fd",
   "metadata": {},
   "outputs": [
    {
     "name": "stdout",
     "output_type": "stream",
     "text": [
      "Hello\n"
     ]
    }
   ],
   "source": [
    "#(1). Write a Python program to print \"Hello\" using a string. \n",
    "print(\"Hello\")"
   ]
  },
  {
   "cell_type": "code",
   "execution_count": 32,
   "id": "2ddba3c6-7bd1-4991-8fb5-9d609cb97631",
   "metadata": {},
   "outputs": [
    {
     "name": "stdout",
     "output_type": "stream",
     "text": [
      "kevin chaudhary\n"
     ]
    }
   ],
   "source": [
    "#(2). Write a Python program to allocate a string to a variable and print it.\n",
    "a =\"kevin chaudhary\"\n",
    "print(a)"
   ]
  },
  {
   "cell_type": "code",
   "execution_count": 27,
   "id": "c0fb502d-3c26-4e44-ab08-d8504a6669a9",
   "metadata": {},
   "outputs": [
    {
     "name": "stdout",
     "output_type": "stream",
     "text": [
      " kevin\n",
      "chaudhary\n",
      "tops\n"
     ]
    }
   ],
   "source": [
    "#(3).Write a Python program to print a string using triple quotes.\n",
    "x =''' kevin\n",
    "chaudhary\n",
    "tops'''\n",
    "print(x)"
   ]
  },
  {
   "cell_type": "code",
   "execution_count": 28,
   "id": "91caac10-bb2a-45d5-a30e-f43fd4929a3b",
   "metadata": {},
   "outputs": [
    {
     "name": "stdout",
     "output_type": "stream",
     "text": [
      "k\n"
     ]
    }
   ],
   "source": [
    "#(4).Write a Python program to access the first character of a string using index value.\n",
    "x = \"kevin\"\n",
    "print(x[0])"
   ]
  },
  {
   "cell_type": "code",
   "execution_count": 35,
   "id": "cd3203f8-c0d5-4380-81d7-4bccb5fb81be",
   "metadata": {},
   "outputs": [
    {
     "data": {
      "text/plain": [
       "'evinchaudhary'"
      ]
     },
     "execution_count": 35,
     "metadata": {},
     "output_type": "execute_result"
    }
   ],
   "source": [
    "#(5).Write a Python program to access the string from the second position onwards using slicing.\n",
    "a =\"kevinchaudhary\"\n",
    "a[1:]"
   ]
  },
  {
   "cell_type": "code",
   "execution_count": 36,
   "id": "8df4b426-2202-4c93-8f04-922c6b303ccc",
   "metadata": {},
   "outputs": [
    {
     "data": {
      "text/plain": [
       "'n'"
      ]
     },
     "execution_count": 36,
     "metadata": {},
     "output_type": "execute_result"
    }
   ],
   "source": [
    "#(6) Write a Python program to access a string up to the fifth character.\n",
    "a =\"kevinchaudhary\"\n",
    "a[4]"
   ]
  },
  {
   "cell_type": "code",
   "execution_count": 37,
   "id": "5f36accf-fd25-4aba-b02a-577ab3882121",
   "metadata": {},
   "outputs": [
    {
     "data": {
      "text/plain": [
       "'evi'"
      ]
     },
     "execution_count": 37,
     "metadata": {},
     "output_type": "execute_result"
    }
   ],
   "source": [
    "#(7)Write a Python program to print the substring between index values 1 and 4. \n",
    "a =\"kevinchaudhary\"\n",
    "a[1:4]"
   ]
  },
  {
   "cell_type": "code",
   "execution_count": 38,
   "id": "60f2e77c-109e-48e8-8040-1b7b28dd515f",
   "metadata": {},
   "outputs": [
    {
     "data": {
      "text/plain": [
       "'yrahduahcnivek'"
      ]
     },
     "execution_count": 38,
     "metadata": {},
     "output_type": "execute_result"
    }
   ],
   "source": [
    "#(8).Write a Python program to print a string from the last character. \n",
    "a =\"kevinchaudhary\"\n",
    "a[::-1]"
   ]
  },
  {
   "cell_type": "code",
   "execution_count": 40,
   "id": "1cb4d39b-4aa8-4fc2-9995-bb138e78e37e",
   "metadata": {},
   "outputs": [
    {
     "data": {
      "text/plain": [
       "'eicaday'"
      ]
     },
     "execution_count": 40,
     "metadata": {},
     "output_type": "execute_result"
    }
   ],
   "source": [
    "#(9). Write a Python program to print every alternate character from the string starting from index 1. \n",
    "a =\"kevinchaudhary\"\n",
    "a[1::2]"
   ]
  },
  {
   "cell_type": "markdown",
   "id": "a5b2982c-1c6b-4340-a17d-c0c693bd1514",
   "metadata": {},
   "source": [
    " 8. Control Statements (Break, Continue, Pass) "
   ]
  },
  {
   "cell_type": "code",
   "execution_count": 42,
   "id": "6757947d-d94d-4c7c-ba0c-17d5f2a16f96",
   "metadata": {},
   "outputs": [
    {
     "name": "stdout",
     "output_type": "stream",
     "text": [
      "apple\n",
      "mango\n"
     ]
    }
   ],
   "source": [
    "#(1). Write a Python program to skip 'banana' in a list using the continue statement. \n",
    "List1 = ['apple', 'banana', 'mango'] \n",
    "for i in List1:\n",
    "    if i == \"banana\":\n",
    "        continue\n",
    "    print(i)"
   ]
  },
  {
   "cell_type": "code",
   "execution_count": 43,
   "id": "d8fe2b4e-ff3e-44bc-91ca-08b2d2058688",
   "metadata": {},
   "outputs": [
    {
     "name": "stdout",
     "output_type": "stream",
     "text": [
      "apple\n"
     ]
    }
   ],
   "source": [
    "#(2). Write a Python program to stop the loop once 'banana' is found using the break statement\n",
    "List1 = ['apple', 'banana', 'mango'] \n",
    "for i in List1:\n",
    "    if i == \"banana\":\n",
    "        break\n",
    "    print(i)"
   ]
  },
  {
   "cell_type": "markdown",
   "id": "ddc03e47-2c8e-4f14-8b1e-f3359a8ce451",
   "metadata": {},
   "source": [
    "9. String Manipulation "
   ]
  },
  {
   "cell_type": "code",
   "execution_count": 46,
   "id": "208015ed-7228-4eec-a53d-eaaf0ba71d3c",
   "metadata": {},
   "outputs": [
    {
     "name": "stdout",
     "output_type": "stream",
     "text": [
      "kevin\n",
      "vncaday\n",
      "yrahduahc nivek\n"
     ]
    }
   ],
   "source": [
    "#(1).Write a Python program to demonstrate string slicing. \n",
    "a = \"kevin chaudhary\"\n",
    "print(a[:5])\n",
    "print(a[2::2])\n",
    "print(a[::-1])"
   ]
  },
  {
   "cell_type": "code",
   "execution_count": 57,
   "id": "dbacc621-0be1-42a1-bfd8-1b4e5c773785",
   "metadata": {},
   "outputs": [
    {
     "name": "stdout",
     "output_type": "stream",
     "text": [
      "KEVIN CHAUDHARY\n",
      "Kevin chaudhary\n",
      "kevin chaudhary\n",
      "kevin chaudhary\n",
      "True\n",
      "False\n",
      "True\n"
     ]
    }
   ],
   "source": [
    "#(2).Write a Python program that manipulates and prints strings using various string methods.\n",
    "a = \"kevin chaudhary\"\n",
    "print(a.upper())\n",
    "print(a.capitalize())\n",
    "print(a.casefold())\n",
    "print(a.lower())\n",
    "print(a.startswith(\"k\"))\n",
    "print(a.startswith(\"o\"))\n",
    "print(a.endswith(\"y\"))"
   ]
  },
  {
   "cell_type": "code",
   "execution_count": null,
   "id": "ad53663d-57cd-468d-8748-503699e9f4d1",
   "metadata": {},
   "outputs": [],
   "source": []
  }
 ],
 "metadata": {
  "kernelspec": {
   "display_name": "Python 3 (ipykernel)",
   "language": "python",
   "name": "python3"
  },
  "language_info": {
   "codemirror_mode": {
    "name": "ipython",
    "version": 3
   },
   "file_extension": ".py",
   "mimetype": "text/x-python",
   "name": "python",
   "nbconvert_exporter": "python",
   "pygments_lexer": "ipython3",
   "version": "3.12.7"
  }
 },
 "nbformat": 4,
 "nbformat_minor": 5
}
